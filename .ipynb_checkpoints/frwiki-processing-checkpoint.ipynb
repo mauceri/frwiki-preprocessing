{
 "cells": [
  {
   "cell_type": "code",
   "execution_count": 6,
   "metadata": {},
   "outputs": [],
   "source": [
    "#!pip3 install gensim\n"
   ]
  },
  {
   "cell_type": "code",
   "execution_count": 8,
   "metadata": {},
   "outputs": [
    {
     "name": "stdout",
     "output_type": "stream",
     "text": [
      "['frwiki', 'frwiki.txt.bz2', 'frwiki-latest-pages-articles-multistream.xml.bz2', 'lost+found']\n"
     ]
    }
   ],
   "source": [
    "# This Python 3 environment comes with many helpful analytics libraries installed\n",
    "# It is defined by the kaggle/python docker image: https://github.com/kaggle/docker-python\n",
    "# For example, here's several helpful packages to load in \n",
    "\n",
    "import numpy as np # linear algebra\n",
    "import pandas as pd # data processing, CSV file I/O (e.g. pd.read_csv)\n",
    "\n",
    "# Input data files are available in the \"../input/\" directory.\n",
    "# For example, running this (by clicking run or pressing Shift+Enter) will list the files in the input directory\n",
    "\n",
    "import os\n",
    "print(os.listdir(\"data\"))\n",
    "import json,requests,glob\n",
    "import gensim\n",
    "import zipfile\n",
    "import lzma\n",
    "# Any results you write to the current directory are saved as output."
   ]
  },
  {
   "cell_type": "code",
   "execution_count": null,
   "metadata": {},
   "outputs": [],
   "source": [
    "#! wget    ftp://ftpmirror.your.org/pub/wikimedia/dumps/frwiki/latest/frwiki-latest-pages-articles-multistream.xml.bz2 -P data\n"
   ]
  },
  {
   "cell_type": "code",
   "execution_count": null,
   "metadata": {},
   "outputs": [],
   "source": [
    "import bz2\n",
    "import time\n",
    "def fake_tk(t,*args):\n",
    "  return t.split(\" \" )\n",
    "\n",
    "stime = time.time()\n",
    "dump_path=glob.glob(\"data/**/frwiki*.xml.bz2\",recursive=True)[0]\n",
    "wiki = gensim.corpora.wikicorpus.WikiCorpus(dump_path,lemmatize=False ,dictionary ={} , lower=False ,\n",
    "                  token_min_len=1,tokenizer_func =fake_tk )\n",
    "\n",
    "n=1\n",
    "threshold=655000\n",
    "with zipfile.ZipFile(\"frwiki.zip\", mode=\"w\",compression=zipfile.ZIP_DEFLATED) as zf:\n",
    "    with bz2.open(\"data/frwiki.txt.bz2\",\"wt\") as textfile:\n",
    "          for text in wiki.get_texts():\n",
    "            if n > threshold:\n",
    "                text_s=' '.join(text)\n",
    "                text=bytes(text_s, 'utf-8').decode('utf-8') + '\\n'   \n",
    "                zf.writestr(f\"article{n}.txt\",text)\n",
    "                st=os.statvfs(\".\")\n",
    "                textfile.write(text_s)\n",
    "                if st.f_bavail*st.f_bsize<1e7:\n",
    "                    break\n",
    "\n",
    "\n",
    "\n",
    "            if n%5000==0:\n",
    "                print(n)\n",
    "                print(time.time()-stime)\n",
    "                if n > threshold:\n",
    "                    print(text[:300])      \n",
    "            elif n%1000==0:\n",
    "                print(n)\n",
    "            n+=1\n",
    "            "
   ]
  }
 ],
 "metadata": {
  "kernelspec": {
   "display_name": "Python 3",
   "language": "python",
   "name": "python3"
  },
  "language_info": {
   "codemirror_mode": {
    "name": "ipython",
    "version": 3
   },
   "file_extension": ".py",
   "mimetype": "text/x-python",
   "name": "python",
   "nbconvert_exporter": "python",
   "pygments_lexer": "ipython3",
   "version": "3.6.8"
  }
 },
 "nbformat": 4,
 "nbformat_minor": 2
}
